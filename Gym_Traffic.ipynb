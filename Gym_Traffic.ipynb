{
 "cells": [
  {
   "cell_type": "code",
   "execution_count": 1,
   "id": "4544ee43",
   "metadata": {},
   "outputs": [
    {
     "name": "stdout",
     "output_type": "stream",
     "text": [
      "pygame 2.1.2 (SDL 2.0.18, Python 3.8.0)\n",
      "Hello from the pygame community. https://www.pygame.org/contribute.html\n"
     ]
    },
    {
     "ename": "SystemExit",
     "evalue": "",
     "output_type": "error",
     "traceback": [
      "An exception has occurred, use %tb to see the full traceback.\n",
      "\u001b[0;31mSystemExit\u001b[0m\n"
     ]
    },
    {
     "name": "stderr",
     "output_type": "stream",
     "text": [
      "/Users/macos/anaconda3/envs/bmrl/lib/python3.8/site-packages/IPython/core/interactiveshell.py:3516: UserWarning: To exit: use 'exit', 'quit', or Ctrl-D.\n",
      "  warn(\"To exit: use 'exit', 'quit', or Ctrl-D.\", stacklevel=1)\n"
     ]
    }
   ],
   "source": [
    "import pygame\n",
    "import sys\n",
    "import random\n",
    "import time\n",
    "\n",
    "class TrafficSignal:\n",
    "    def __init__(self, x, y):\n",
    "        self.x = x\n",
    "        self.y = y\n",
    "        self.colors = ['red', 'green']\n",
    "        self.current_color = random.choice(self.colors)\n",
    "        self.duration = random.randint(5, 10)  # Initial signal duration in seconds\n",
    "        self.remaining_duration = self.duration\n",
    "\n",
    "    def update(self):\n",
    "        self.remaining_duration -= 1\n",
    "        if self.remaining_duration == 0:\n",
    "            self.current_color = 'green' if self.current_color == 'red' else 'red'\n",
    "            self.duration = random.randint(5, 10)\n",
    "            self.remaining_duration = self.duration\n",
    "\n",
    "    def get_color(self):\n",
    "        return self.current_color\n",
    "\n",
    "class AdaptiveSignalControl:\n",
    "    def __init__(self):\n",
    "        self.signals = [TrafficSignal(200, 200), TrafficSignal(600, 400)]\n",
    "        self.screen_width = 800\n",
    "        self.screen_height = 600\n",
    "        self.colors = {'red': (255, 0, 0), 'green': (0, 255, 0), 'white': (255, 255, 255)}\n",
    "        self.clock = pygame.time.Clock()\n",
    "\n",
    "        pygame.init()\n",
    "        self.screen = pygame.display.set_mode((self.screen_width, self.screen_height))\n",
    "        pygame.display.set_caption(\"Adaptive Signal Control\")\n",
    "\n",
    "    def run_simulation(self):\n",
    "        running = True\n",
    "        while running:\n",
    "            for event in pygame.event.get():\n",
    "                if event.type == pygame.QUIT:\n",
    "                    running = False\n",
    "\n",
    "            self.update_simulation()\n",
    "            self.draw_simulation()\n",
    "\n",
    "            pygame.display.flip()\n",
    "            self.clock.tick(1)  # Update every second\n",
    "\n",
    "        pygame.quit()\n",
    "        sys.exit()\n",
    "\n",
    "    def update_simulation(self):\n",
    "        for signal in self.signals:\n",
    "            signal.update()\n",
    "\n",
    "    def draw_simulation(self):\n",
    "        self.screen.fill(self.colors['white'])\n",
    "\n",
    "        for signal in self.signals:\n",
    "            color = self.colors[signal.get_color()]\n",
    "            pygame.draw.circle(self.screen, color, (signal.x, signal.y), 30)\n",
    "\n",
    "if __name__ == \"__main__\":\n",
    "    adaptive_signal_control = AdaptiveSignalControl()\n",
    "    adaptive_signal_control.run_simulation()\n"
   ]
  },
  {
   "cell_type": "code",
   "execution_count": null,
   "id": "2631e207",
   "metadata": {},
   "outputs": [],
   "source": []
  },
  {
   "cell_type": "code",
   "execution_count": null,
   "id": "33f58f27",
   "metadata": {},
   "outputs": [],
   "source": []
  },
  {
   "cell_type": "code",
   "execution_count": null,
   "id": "97e618b4",
   "metadata": {},
   "outputs": [],
   "source": []
  }
 ],
 "metadata": {
  "kernelspec": {
   "display_name": "Python 3 (ipykernel)",
   "language": "python",
   "name": "python3"
  },
  "language_info": {
   "codemirror_mode": {
    "name": "ipython",
    "version": 3
   },
   "file_extension": ".py",
   "mimetype": "text/x-python",
   "name": "python",
   "nbconvert_exporter": "python",
   "pygments_lexer": "ipython3",
   "version": "3.8.0"
  }
 },
 "nbformat": 4,
 "nbformat_minor": 5
}
