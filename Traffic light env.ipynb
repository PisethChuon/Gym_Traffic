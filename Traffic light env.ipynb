{
 "cells": [
  {
   "cell_type": "code",
   "execution_count": 2,
   "id": "f09369b5",
   "metadata": {},
   "outputs": [
    {
     "ename": "KeyboardInterrupt",
     "evalue": "",
     "output_type": "error",
     "traceback": [
      "\u001b[0;31m---------------------------------------------------------------------------\u001b[0m",
      "\u001b[0;31mKeyboardInterrupt\u001b[0m                         Traceback (most recent call last)",
      "Cell \u001b[0;32mIn[2], line 39\u001b[0m\n\u001b[1;32m     36\u001b[0m traffic_sim \u001b[38;5;241m=\u001b[39m TrafficSimulation()\n\u001b[1;32m     38\u001b[0m \u001b[38;5;66;03m# Start the simulation for 100 steps\u001b[39;00m\n\u001b[0;32m---> 39\u001b[0m \u001b[43mtraffic_sim\u001b[49m\u001b[38;5;241;43m.\u001b[39;49m\u001b[43mstart_simulation\u001b[49m\u001b[43m(\u001b[49m\u001b[43mnum_steps\u001b[49m\u001b[38;5;241;43m=\u001b[39;49m\u001b[38;5;241;43m100\u001b[39;49m\u001b[43m)\u001b[49m\n",
      "Cell \u001b[0;32mIn[2], line 28\u001b[0m, in \u001b[0;36mTrafficSimulation.start_simulation\u001b[0;34m(self, num_steps)\u001b[0m\n\u001b[1;32m     25\u001b[0m \u001b[38;5;28mself\u001b[39m\u001b[38;5;241m.\u001b[39mvisualize_simulation()\n\u001b[1;32m     27\u001b[0m \u001b[38;5;66;03m# Simulate a delay between steps\u001b[39;00m\n\u001b[0;32m---> 28\u001b[0m \u001b[43mtime\u001b[49m\u001b[38;5;241;43m.\u001b[39;49m\u001b[43msleep\u001b[49m\u001b[43m(\u001b[49m\u001b[38;5;241;43m1\u001b[39;49m\u001b[43m)\u001b[49m\n",
      "\u001b[0;31mKeyboardInterrupt\u001b[0m: "
     ]
    }
   ],
   "source": [
    "import matplotlib.pyplot as plt\n",
    "import numpy as np\n",
    "import time\n",
    "\n",
    "class TrafficSimulation:\n",
    "    def __init__(self):\n",
    "        self.traffic_lights = {'intersection_1': 'red', 'intersection_2': 'green'}\n",
    "        self.road_conditions = {'road_1': 'empty', 'road_2': 'crowded'}\n",
    "\n",
    "    def start_simulation(self, num_steps=100):\n",
    "        for step in range(num_steps):\n",
    "            # Check for the presence of drivers (for simplicity, randomly simulate driver presence)\n",
    "            if np.random.rand() < 0.3:\n",
    "                self.traffic_lights['intersection_1'] = 'green'\n",
    "                self.traffic_lights['intersection_2'] = 'red'\n",
    "                self.road_conditions['road_1'] = 'crowded'\n",
    "                self.road_conditions['road_2'] = 'empty'\n",
    "            else:\n",
    "                self.traffic_lights['intersection_1'] = 'red'\n",
    "                self.traffic_lights['intersection_2'] = 'green'\n",
    "                self.road_conditions['road_1'] = 'empty'\n",
    "                self.road_conditions['road_2'] = 'crowded'\n",
    "\n",
    "            # Visualize the simulation\n",
    "            self.visualize_simulation()\n",
    "\n",
    "            # Simulate a delay between steps\n",
    "            time.sleep(1)\n",
    "\n",
    "    def visualize_simulation(self):\n",
    "        # Visualization logic using matplotlib\n",
    "        # Include code to display traffic lights, road conditions, etc.\n",
    "        pass\n",
    "\n",
    "# Instantiate the TrafficSimulation class\n",
    "traffic_sim = TrafficSimulation()\n",
    "\n",
    "# Start the simulation for 100 steps\n",
    "traffic_sim.start_simulation(num_steps=100)\n"
   ]
  },
  {
   "cell_type": "code",
   "execution_count": null,
   "id": "1bb32bbf",
   "metadata": {},
   "outputs": [],
   "source": []
  }
 ],
 "metadata": {
  "kernelspec": {
   "display_name": "Python 3 (ipykernel)",
   "language": "python",
   "name": "python3"
  },
  "language_info": {
   "codemirror_mode": {
    "name": "ipython",
    "version": 3
   },
   "file_extension": ".py",
   "mimetype": "text/x-python",
   "name": "python",
   "nbconvert_exporter": "python",
   "pygments_lexer": "ipython3",
   "version": "3.8.0"
  }
 },
 "nbformat": 4,
 "nbformat_minor": 5
}
